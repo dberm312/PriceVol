{
 "cells": [
  {
   "cell_type": "markdown",
   "metadata": {},
   "source": [
    "# Using Price Volitility\n",
    "According to the efficient frontier (https://en.wikipedia.org/wiki/Efficient_frontier), it is optimal from a risk return standpoint to have a mixed portfolio as it gives you a better outcome even if one of the components has strictly higher returns and strictly less risk. \n",
    "\n",
    "In part one, I will be combining this aspect of portfolio theory, data from the USDA, and options prices from the CBOE to determine the optimal crop mix for a theoretical farm in DeKalb County Illinois. Through this part I look to guide through the theoretical foundations of the exercise.\n",
    "\n",
    "In part two, I will use the same techniques as described above but apply it to the 100 most agriculturally active and mixed counties in the United States. Here I hope to prove how this solution scales and see if the solutions that I propose is viable and reflects the ground truth of determining proper crop mixing.\n",
    "\n",
    "In part three, I will apply this methodology to other countries using FAO data to determine how they can use this theory to improve resiliency across the world in a sustainable and quantitative manor.  \n",
    "\n",
    "Disclaimer: This analysis only begins to scratch the surface of the complexities involved in agriculture. I am cognizant of the multitude of omitted variables such as fixed and variables costs independent of land involved in such an analysis but as it exists today, I hope that this analysis can provide a framework for diversifying seed portfolio and encouraging more sustainable agriculture practices."
   ]
  },
  {
   "cell_type": "code",
   "execution_count": 1,
   "metadata": {},
   "outputs": [],
   "source": [
    "import pandas as pd #Used for DataFrames and DataWrangling\n",
    "import matplotlib.pyplot as plt #for plotting\n",
    "import numpy as np #For general math\n",
    "from utils import * #imports functions from utils file"
   ]
  },
  {
   "cell_type": "markdown",
   "metadata": {},
   "source": [
    "# Part 1: DeKalb county"
   ]
  },
  {
   "cell_type": "code",
   "execution_count": 96,
   "metadata": {},
   "outputs": [
    {
     "name": "stdout",
     "output_type": "stream",
     "text": [
      "          corn      soyb      weat\n",
      "corn  1.000000  0.506619  0.192544\n",
      "soyb  0.506619  1.000000  0.099486\n",
      "weat  0.192544  0.099486  1.000000\n"
     ]
    }
   ],
   "source": [
    "#This is Yield Data from the USDA in terms of bushels per Acre between 2000 and 2019\n",
    "DeKalb_yields = pd.read_csv('Data/DeKalb yields.csv').set_index('Year')\n",
    "DeKalb_yield_corr = DeKalb_yields.corr()\n",
    "#Historical Prices for the last five years for Teucrium's Corn, Soyb, and Weat index\n",
    "prices = pd.read_csv('Data/prices.csv').set_index('Date')\n",
    "price_corr = prices.corr()\n",
    "#Note: I used historical data instead of futures to measure correlation since there is no financial security my knowledge, that measures correlation.\n",
    "#Finding the overall corrlation by multipling each component probably doesn't scales well(if I had to guess they would be negetivly corrolated due to supply and demand)\n",
    "corr = DeKalb_yield_corr*price_corr\n",
    "print(corr)"
   ]
  },
  {
   "cell_type": "code",
   "execution_count": 97,
   "metadata": {},
   "outputs": [
    {
     "name": "stdout",
     "output_type": "stream",
     "text": [
      "Commodity\n",
      "corn    0.088348\n",
      "soyb    0.066461\n",
      "weat    0.039791\n",
      "dtype: float64\n"
     ]
    }
   ],
   "source": [
    "futures = pd.read_csv('Data/FuturesPrices.csv')\n",
    "temp = futures[futures['Year']==2020].set_index('Commodity')['Price']\n",
    "r = temp*DeKalb_yields.iloc[-1]/(7300*100)#According to USDA/NASS the price of land per acre=$7300 in DeKalb County\n",
    "print(r)"
   ]
  },
  {
   "cell_type": "code",
   "execution_count": 98,
   "metadata": {},
   "outputs": [],
   "source": [
    "#Going to use Options Chains and implied Volitility to predict price risks\n",
    "vol = (prices.var()*np.sqrt(12)+DeKalb_yields.var())/(7300)"
   ]
  },
  {
   "cell_type": "code",
   "execution_count": 99,
   "metadata": {},
   "outputs": [
    {
     "name": "stdout",
     "output_type": "stream",
     "text": [
      "Wall time: 2.46 s\n"
     ]
    }
   ],
   "source": [
    "%%time\n",
    "portfolio = Portfolio(r,vol,corr)"
   ]
  },
  {
   "cell_type": "code",
   "execution_count": 101,
   "metadata": {},
   "outputs": [
    {
     "name": "stdout",
     "output_type": "stream",
     "text": [
      "        return       vol\n",
      "weat  0.039791  0.040759\n",
      "soyb  0.066461  0.019313\n",
      "corn  0.088348  0.123979\n",
      "Here we have a Monte Carlo Analysis with 1033 potential portfolio combinations.\n"
     ]
    },
    {
     "data": {
      "image/png": "[encoded data removed]",
      "text/plain": [
       "<Figure size 648x648 with 1 Axes>"
      ]
     },
     "metadata": {
      "needs_background": "light"
     },
     "output_type": "display_data"
    }
   ],
   "source": [
    "portfolio.df.plot.scatter('vol','return',s=2.5,figsize=(9,9))\n",
    "print(portfolio.components())\n",
    "print('Here we have a Monte Carlo Analysis with {} potential portfolio combinations.'.format(portfolio.df.shape[0]))"
   ]
  },
  {
   "cell_type": "markdown",
   "metadata": {},
   "source": [
    "The graphic above demonstrates the fact that, at least in DeKalb County, some mix of corn and soybean create the optimal mix between risk and return. Moving futher, I use the Sharpe ratio (https://en.wikipedia.org/wiki/Sharpe_ratio) as a way to find which comonationa of products create the optimal portfolio in terms of risk returns. "
   ]
  },
  {
   "cell_type": "code",
   "execution_count": 7,
   "metadata": {},
   "outputs": [
    {
     "name": "stdout",
     "output_type": "stream",
     "text": [
      "        maxreturn    minvol  maxsharpe\n",
      "corn     1.000000  0.000000   0.000000\n",
      "soyb     0.000000  0.889000   1.000000\n",
      "weat     0.000000  0.111000   0.000000\n",
      "return   0.088348  0.063501   0.066461\n",
      "vol      0.123979  0.019005   0.019313\n",
      "sharpe   0.631944  2.815054   2.923449\n"
     ]
    }
   ],
   "source": [
    "portfolio.sharpe(0.01)\n",
    "portfolio.df.loc[portfolio.df['sharpe'].argmax()]\n",
    "print(portfolio.stats())"
   ]
  },
  {
   "cell_type": "markdown",
   "metadata": {},
   "source": [
    "Now, using Google Earth Engine and USDA Data, we scrape the true composite mix of crops being planted in DeKalb County and measure the price volitility optimum of farmers. See EarthEngine.py file for more detail."
   ]
  },
  {
   "cell_type": "code",
   "execution_count": 8,
   "metadata": {},
   "outputs": [
    {
     "data": {
      "text/plain": [
       "soyb    0.339435\n",
       "corn    0.653880\n",
       "weat    0.006685\n",
       "Name: 17037, dtype: float64"
      ]
     },
     "execution_count": 8,
     "metadata": {},
     "output_type": "execute_result"
    }
   ],
   "source": [
    "land = pd.read_csv('Data/land.csv').set_index('index')\n",
    "land.index = list(map(lambda x:str(x).rjust(5,'0'),land.index))\n",
    "\n",
    "land.loc['17037']"
   ]
  },
  {
   "cell_type": "markdown",
   "metadata": {},
   "source": [
    "Here we see that the true mix of corn to soybeans is 66/33 rather than 100% Soybean. There are many reasons for this potentail breakdown but one worth looking into which deviates from the traditional methodology is setting the risk free intrest rate hire. Since we are in a low intrest environment and taking out loans for farming is not in fact risk free, it is likly that farmers aren't able to borrow at even close to this rate. \n",
    "\n",
    "Now I will take a range of intrest rates to find which rate would make a  66/33 split"
   ]
  },
  {
   "cell_type": "code",
   "execution_count": 9,
   "metadata": {},
   "outputs": [
    {
     "data": {
      "image/png": "[encoded data removed]",
      "text/plain": [
       "<Figure size 432x288 with 1 Axes>"
      ]
     },
     "metadata": {
      "needs_background": "light"
     },
     "output_type": "display_data"
    }
   ],
   "source": [
    "rates = np.linspace(0.01,portfolio.df['return'].max(),100)\n",
    "out={}\n",
    "for i in rates:\n",
    "    portfolio.sharpe(i)\n",
    "    out[i]=portfolio.df.loc[portfolio.df['sharpe'].argmax()]\n",
    "pd.DataFrame(out).T[['corn','soyb','weat']].plot(grid=True)\n",
    "plt.xlabel('Risk Free Rate')\n",
    "plt.ylabel(\"Percent of Acre\")\n",
    "plt.show()"
   ]
  },
  {
   "cell_type": "markdown",
   "metadata": {},
   "source": [
    "Here we show that if the intrest rate was 6.7% then the compostion between corn and Soybeans makes sense for farmers on this field. "
   ]
  },
  {
   "cell_type": "markdown",
   "metadata": {},
   "source": [
    "# Part 2: Expaning the Geogrophy\n",
    "\n",
    "In part two, I will apply the same methodologies as shown above for the 1000 highest producing counties in the United States"
   ]
  },
  {
   "cell_type": "code",
   "execution_count": 10,
   "metadata": {},
   "outputs": [
    {
     "data": {
      "image/png": "[encoded data removed]",
      "text/plain": [
       "<Figure size 648x324 with 1 Axes>"
      ]
     },
     "metadata": {
      "needs_background": "light"
     },
     "output_type": "display_data"
    },
    {
     "data": {
      "text/html": [
       "<div>\n",
       "<style scoped>\n",
       "    .dataframe tbody tr th:only-of-type {\n",
       "        vertical-align: middle;\n",
       "    }\n",
       "\n",
       "    .dataframe tbody tr th {\n",
       "        vertical-align: top;\n",
       "    }\n",
       "\n",
       "    .dataframe thead th {\n",
       "        text-align: right;\n",
       "    }\n",
       "</style>\n",
       "<table border=\"1\" class=\"dataframe\">\n",
       "  <thead>\n",
       "    <tr style=\"text-align: right;\">\n",
       "      <th></th>\n",
       "      <th>soyb</th>\n",
       "      <th>corn</th>\n",
       "      <th>weat</th>\n",
       "    </tr>\n",
       "  </thead>\n",
       "  <tbody>\n",
       "    <tr>\n",
       "      <th>17055</th>\n",
       "      <td>0.744623</td>\n",
       "      <td>0.255377</td>\n",
       "      <td>0.000000</td>\n",
       "    </tr>\n",
       "    <tr>\n",
       "      <th>26161</th>\n",
       "      <td>0.581863</td>\n",
       "      <td>0.338893</td>\n",
       "      <td>0.079244</td>\n",
       "    </tr>\n",
       "    <tr>\n",
       "      <th>47147</th>\n",
       "      <td>0.353899</td>\n",
       "      <td>0.646101</td>\n",
       "      <td>0.000000</td>\n",
       "    </tr>\n",
       "    <tr>\n",
       "      <th>26151</th>\n",
       "      <td>0.517632</td>\n",
       "      <td>0.347422</td>\n",
       "      <td>0.134946</td>\n",
       "    </tr>\n",
       "    <tr>\n",
       "      <th>21211</th>\n",
       "      <td>0.607079</td>\n",
       "      <td>0.392921</td>\n",
       "      <td>0.000000</td>\n",
       "    </tr>\n",
       "    <tr>\n",
       "      <th>...</th>\n",
       "      <td>...</td>\n",
       "      <td>...</td>\n",
       "      <td>...</td>\n",
       "    </tr>\n",
       "    <tr>\n",
       "      <th>29079</th>\n",
       "      <td>0.690667</td>\n",
       "      <td>0.309333</td>\n",
       "      <td>0.000000</td>\n",
       "    </tr>\n",
       "    <tr>\n",
       "      <th>20023</th>\n",
       "      <td>0.013790</td>\n",
       "      <td>0.394865</td>\n",
       "      <td>0.591344</td>\n",
       "    </tr>\n",
       "    <tr>\n",
       "      <th>31103</th>\n",
       "      <td>0.211287</td>\n",
       "      <td>0.772615</td>\n",
       "      <td>0.016097</td>\n",
       "    </tr>\n",
       "    <tr>\n",
       "      <th>29075</th>\n",
       "      <td>0.701903</td>\n",
       "      <td>0.289042</td>\n",
       "      <td>0.009055</td>\n",
       "    </tr>\n",
       "    <tr>\n",
       "      <th>55013</th>\n",
       "      <td>0.344167</td>\n",
       "      <td>0.642268</td>\n",
       "      <td>0.013565</td>\n",
       "    </tr>\n",
       "  </tbody>\n",
       "</table>\n",
       "<p>1000 rows × 3 columns</p>\n",
       "</div>"
      ],
      "text/plain": [
       "           soyb      corn      weat\n",
       "17055  0.744623  0.255377  0.000000\n",
       "26161  0.581863  0.338893  0.079244\n",
       "47147  0.353899  0.646101  0.000000\n",
       "26151  0.517632  0.347422  0.134946\n",
       "21211  0.607079  0.392921  0.000000\n",
       "...         ...       ...       ...\n",
       "29079  0.690667  0.309333  0.000000\n",
       "20023  0.013790  0.394865  0.591344\n",
       "31103  0.211287  0.772615  0.016097\n",
       "29075  0.701903  0.289042  0.009055\n",
       "55013  0.344167  0.642268  0.013565\n",
       "\n",
       "[1000 rows x 3 columns]"
      ]
     },
     "execution_count": 10,
     "metadata": {},
     "output_type": "execute_result"
    }
   ],
   "source": [
    "yields = pd.read_csv('Data/yields.csv')\n",
    "yields['ANSI'] = list(map(lambda x:str(x).rjust(5,'0'),yields['ANSI']))\n",
    "\n",
    "temp = yields.groupby('ANSI').count()[['corn','soyb','weat']].sum(1).sort_values(ascending=False)\n",
    "temp.reset_index(drop=True).plot(grid=True,figsize=(9,4.5))\n",
    "plt.show()\n",
    "#print(list(map(str,temp.head(1000).index)))\n",
    "\n",
    "land"
   ]
  },
  {
   "cell_type": "code",
   "execution_count": 11,
   "metadata": {
    "scrolled": true
   },
   "outputs": [],
   "source": [
    "temp = yields.set_index(['ANSI','Year']).unstack()\n",
    "corrs={}\n",
    "vols = {}\n",
    "yields_out={}\n",
    "for i in temp.index:\n",
    "    yields_out[i]=temp.loc[i].unstack().T.tail(5).mean()\n",
    "    corrs[i]=temp.loc[i].unstack().T.corr().fillna(1)\n",
    "    vols[i]=temp.loc[i].unstack().T.var()\n",
    "yields_out = pd.DataFrame(yields_out).T.fillna(0)\n",
    "vols = pd.DataFrame(vols).T.fillna(np.inf)\n",
    "vols = ((prices.var()*np.sqrt(12)+vols)/(7300)).fillna(np.inf)"
   ]
  },
  {
   "cell_type": "code",
   "execution_count": 61,
   "metadata": {},
   "outputs": [],
   "source": [
    "temp = futures[futures['Year']==2020].set_index('Commodity')['Price']\n",
    "temp\n",
    "rs = temp*yields_out#/(7300*100)\n",
    "rs = rs.reset_index()\n",
    "rs.index = rs['index'].apply(lambda x:x[:2])\n",
    "\n",
    "landPrice = pd.read_csv('Data/landPrice.csv')\n",
    "landPrice['State ANSI'] =landPrice['State ANSI'].apply(lambda x: str(x).rjust(2,'0'))\n",
    "landPrice = landPrice.set_index('State ANSI')['Value'].apply(lambda x:int(x.replace(',','')))\n",
    "\n",
    "rs = rs.join(landPrice*100)\n",
    "\n",
    "rs['corn']= rs['corn'] /rs['Value']\n",
    "rs['soyb']= rs['soyb'] /rs['Value']\n",
    "rs['weat']= rs['weat'] /rs['Value']\n",
    "\n",
    "rs = rs.set_index('index')[['corn','soyb','weat']]"
   ]
  },
  {
   "cell_type": "code",
   "execution_count": 62,
   "metadata": {},
   "outputs": [
    {
     "name": "stdout",
     "output_type": "stream",
     "text": [
      "           corn      soyb  weat\n",
      "index                          \n",
      "01001  0.166650  0.000000   0.0\n",
      "01003  0.152376  0.109775   0.0\n",
      "01005  0.185963  0.132544   0.0\n",
      "01009  0.127876  0.111428   0.0\n",
      "01011  0.134449  0.000000   0.0\n",
      "           corn      soyb      weat\n",
      "01001  0.313450  0.017130  0.022924\n",
      "01003  0.143450  0.007917  0.007767\n",
      "01005  0.244120       inf  0.060835\n",
      "01009  0.123730  0.015458       inf\n",
      "01011  0.124145       inf       inf\n",
      "          corn      soyb  weat\n",
      "corn  1.000000  0.682948   1.0\n",
      "soyb  0.682948  1.000000   1.0\n",
      "weat  1.000000  1.000000   1.0\n"
     ]
    }
   ],
   "source": [
    "print(rs.head(5))\n",
    "print(vols.head(5))\n",
    "print(corrs[list(corrs.keys())[516]])"
   ]
  },
  {
   "cell_type": "code",
   "execution_count": 63,
   "metadata": {},
   "outputs": [
    {
     "name": "stdout",
     "output_type": "stream",
     "text": [
      "0.0\n",
      "0.02\n",
      "0.04\n",
      "0.07\n",
      "0.09\n",
      "0.11\n",
      "0.13\n",
      "0.15\n",
      "0.18\n",
      "0.2\n",
      "0.22\n",
      "0.24\n",
      "0.26\n",
      "0.29\n",
      "0.31\n",
      "0.33\n",
      "0.35\n",
      "0.37\n",
      "0.4\n",
      "0.42\n",
      "0.44\n",
      "0.46\n",
      "0.48\n",
      "0.51\n",
      "0.53\n",
      "0.55\n",
      "0.57\n",
      "0.59\n",
      "0.62\n",
      "0.64\n",
      "0.66\n",
      "0.68\n",
      "0.7\n",
      "0.73\n",
      "0.75\n",
      "0.77\n",
      "0.79\n",
      "0.81\n",
      "0.84\n",
      "0.86\n",
      "0.88\n",
      "0.9\n",
      "0.92\n",
      "0.95\n",
      "0.97\n",
      "0.99\n"
     ]
    },
    {
     "name": "stderr",
     "output_type": "stream",
     "text": [
      "C:\\Users\\Berma\\Documents\\PriceVol\\utils.py:45: RuntimeWarning: invalid value encountered in double_scalars\n",
      "  out+=corr[i][j]*p[i]*p[j]*np.sqrt(vol[i])*np.sqrt(vol[j])\n",
      "C:\\Users\\Berma\\Documents\\PriceVol\\utils.py:43: RuntimeWarning: invalid value encountered in double_scalars\n",
      "  out+= p[i]*vol[i]\n"
     ]
    }
   ],
   "source": [
    "out = {}\n",
    "for i,j in enumerate(land.index):\n",
    "    portfolio = Portfolio(rs.loc[j],vols.loc[j],corrs[j])\n",
    "    portfolio.sharpe(0.066)\n",
    "    out[j] = portfolio.stats()\n",
    "    if(i%25==0):\n",
    "        print(np.round(i/land.shape[0],3))\n",
    "print('Done!')"
   ]
  },
  {
   "cell_type": "code",
   "execution_count": 66,
   "metadata": {},
   "outputs": [
    {
     "data": {
      "text/html": [
       "<div>\n",
       "<style scoped>\n",
       "    .dataframe tbody tr th:only-of-type {\n",
       "        vertical-align: middle;\n",
       "    }\n",
       "\n",
       "    .dataframe tbody tr th {\n",
       "        vertical-align: top;\n",
       "    }\n",
       "\n",
       "    .dataframe thead th {\n",
       "        text-align: right;\n",
       "    }\n",
       "</style>\n",
       "<table border=\"1\" class=\"dataframe\">\n",
       "  <thead>\n",
       "    <tr style=\"text-align: right;\">\n",
       "      <th></th>\n",
       "      <th>corn</th>\n",
       "      <th>soyb</th>\n",
       "      <th>weat</th>\n",
       "      <th>return</th>\n",
       "      <th>vol</th>\n",
       "      <th>sharpe</th>\n",
       "    </tr>\n",
       "  </thead>\n",
       "  <tbody>\n",
       "    <tr>\n",
       "      <th>17055</th>\n",
       "      <td>1.000</td>\n",
       "      <td>0.000</td>\n",
       "      <td>0.000</td>\n",
       "      <td>0.066738</td>\n",
       "      <td>0.359043</td>\n",
       "      <td>0.002056</td>\n",
       "    </tr>\n",
       "    <tr>\n",
       "      <th>26161</th>\n",
       "      <td>0.000</td>\n",
       "      <td>0.727</td>\n",
       "      <td>0.273</td>\n",
       "      <td>0.084349</td>\n",
       "      <td>0.014701</td>\n",
       "      <td>1.248166</td>\n",
       "    </tr>\n",
       "    <tr>\n",
       "      <th>47147</th>\n",
       "      <td>0.000</td>\n",
       "      <td>0.727</td>\n",
       "      <td>0.273</td>\n",
       "      <td>0.098677</td>\n",
       "      <td>0.024910</td>\n",
       "      <td>1.311811</td>\n",
       "    </tr>\n",
       "    <tr>\n",
       "      <th>26151</th>\n",
       "      <td>0.000</td>\n",
       "      <td>0.714</td>\n",
       "      <td>0.286</td>\n",
       "      <td>0.096999</td>\n",
       "      <td>0.019560</td>\n",
       "      <td>1.584829</td>\n",
       "    </tr>\n",
       "    <tr>\n",
       "      <th>21211</th>\n",
       "      <td>0.000</td>\n",
       "      <td>0.857</td>\n",
       "      <td>0.143</td>\n",
       "      <td>0.097726</td>\n",
       "      <td>0.027868</td>\n",
       "      <td>1.138443</td>\n",
       "    </tr>\n",
       "    <tr>\n",
       "      <th>...</th>\n",
       "      <td>...</td>\n",
       "      <td>...</td>\n",
       "      <td>...</td>\n",
       "      <td>...</td>\n",
       "      <td>...</td>\n",
       "      <td>...</td>\n",
       "    </tr>\n",
       "    <tr>\n",
       "      <th>29079</th>\n",
       "      <td>0.000</td>\n",
       "      <td>1.000</td>\n",
       "      <td>0.000</td>\n",
       "      <td>0.096011</td>\n",
       "      <td>0.015395</td>\n",
       "      <td>1.949385</td>\n",
       "    </tr>\n",
       "    <tr>\n",
       "      <th>20023</th>\n",
       "      <td>0.000</td>\n",
       "      <td>1.000</td>\n",
       "      <td>0.000</td>\n",
       "      <td>0.230673</td>\n",
       "      <td>0.021354</td>\n",
       "      <td>7.711608</td>\n",
       "    </tr>\n",
       "    <tr>\n",
       "      <th>31103</th>\n",
       "      <td>0.000</td>\n",
       "      <td>1.000</td>\n",
       "      <td>0.000</td>\n",
       "      <td>0.114491</td>\n",
       "      <td>0.021150</td>\n",
       "      <td>2.292763</td>\n",
       "    </tr>\n",
       "    <tr>\n",
       "      <th>29075</th>\n",
       "      <td>0.000</td>\n",
       "      <td>1.000</td>\n",
       "      <td>0.000</td>\n",
       "      <td>0.112763</td>\n",
       "      <td>0.022973</td>\n",
       "      <td>2.035532</td>\n",
       "    </tr>\n",
       "    <tr>\n",
       "      <th>55013</th>\n",
       "      <td>0.333</td>\n",
       "      <td>0.333</td>\n",
       "      <td>0.333</td>\n",
       "      <td>0.056163</td>\n",
       "      <td>inf</td>\n",
       "      <td>-0.000000</td>\n",
       "    </tr>\n",
       "  </tbody>\n",
       "</table>\n",
       "<p>1000 rows × 6 columns</p>\n",
       "</div>"
      ],
      "text/plain": [
       "        corn   soyb   weat    return       vol    sharpe\n",
       "17055  1.000  0.000  0.000  0.066738  0.359043  0.002056\n",
       "26161  0.000  0.727  0.273  0.084349  0.014701  1.248166\n",
       "47147  0.000  0.727  0.273  0.098677  0.024910  1.311811\n",
       "26151  0.000  0.714  0.286  0.096999  0.019560  1.584829\n",
       "21211  0.000  0.857  0.143  0.097726  0.027868  1.138443\n",
       "...      ...    ...    ...       ...       ...       ...\n",
       "29079  0.000  1.000  0.000  0.096011  0.015395  1.949385\n",
       "20023  0.000  1.000  0.000  0.230673  0.021354  7.711608\n",
       "31103  0.000  1.000  0.000  0.114491  0.021150  2.292763\n",
       "29075  0.000  1.000  0.000  0.112763  0.022973  2.035532\n",
       "55013  0.333  0.333  0.333  0.056163       inf -0.000000\n",
       "\n",
       "[1000 rows x 6 columns]"
      ]
     },
     "execution_count": 66,
     "metadata": {},
     "output_type": "execute_result"
    }
   ],
   "source": [
    "out1 = pd.DataFrame(out[list(out.keys())[0]]['maxsharpe'])\n",
    "out1.columns = [list(out.keys())[0]]\n",
    "for i in list(out.keys())[1:]:\n",
    "    hold = pd.DataFrame(out[i]['maxsharpe'])\n",
    "    hold.columns = [i]\n",
    "    out1 = out1.join(hold)\n",
    "out1=out1.T\n",
    "out1"
   ]
  },
  {
   "cell_type": "code",
   "execution_count": 76,
   "metadata": {},
   "outputs": [
    {
     "data": {
      "image/png": "[encoded data removed]",
      "text/plain": [
       "<Figure size 432x288 with 1 Axes>"
      ]
     },
     "metadata": {
      "needs_background": "light"
     },
     "output_type": "display_data"
    },
    {
     "data": {
      "image/png": "[encoded data removed]",
      "text/plain": [
       "<Figure size 432x288 with 1 Axes>"
      ]
     },
     "metadata": {
      "needs_background": "light"
     },
     "output_type": "display_data"
    },
    {
     "data": {
      "image/png": "[encoded data removed]",
      "text/plain": [
       "<Figure size 432x288 with 1 Axes>"
      ]
     },
     "metadata": {
      "needs_background": "light"
     },
     "output_type": "display_data"
    }
   ],
   "source": [
    "out1['return'].plot.hist(bins=100)\n",
    "plt.show()\n",
    "out1[out1['vol']!=np.inf]['vol'].plot.hist(bins=100)\n",
    "plt.show()\n",
    "out1['sharpe'].plot.hist(bins=100)\n",
    "plt.show()"
   ]
  },
  {
   "cell_type": "code",
   "execution_count": 93,
   "metadata": {},
   "outputs": [
    {
     "data": {
      "text/html": [
       "<div>\n",
       "<style scoped>\n",
       "    .dataframe tbody tr th:only-of-type {\n",
       "        vertical-align: middle;\n",
       "    }\n",
       "\n",
       "    .dataframe tbody tr th {\n",
       "        vertical-align: top;\n",
       "    }\n",
       "\n",
       "    .dataframe thead th {\n",
       "        text-align: right;\n",
       "    }\n",
       "</style>\n",
       "<table border=\"1\" class=\"dataframe\">\n",
       "  <thead>\n",
       "    <tr style=\"text-align: right;\">\n",
       "      <th></th>\n",
       "      <th>corn_pred</th>\n",
       "      <th>soyb_pred</th>\n",
       "      <th>weat_pred</th>\n",
       "      <th>corn_land</th>\n",
       "      <th>soyb_land</th>\n",
       "      <th>weat_land</th>\n",
       "    </tr>\n",
       "  </thead>\n",
       "  <tbody>\n",
       "    <tr>\n",
       "      <th>17055</th>\n",
       "      <td>1.0</td>\n",
       "      <td>0.000</td>\n",
       "      <td>0.000</td>\n",
       "      <td>0.255377</td>\n",
       "      <td>0.744623</td>\n",
       "      <td>0.000000</td>\n",
       "    </tr>\n",
       "    <tr>\n",
       "      <th>26161</th>\n",
       "      <td>0.0</td>\n",
       "      <td>0.727</td>\n",
       "      <td>0.273</td>\n",
       "      <td>0.338893</td>\n",
       "      <td>0.581863</td>\n",
       "      <td>0.079244</td>\n",
       "    </tr>\n",
       "    <tr>\n",
       "      <th>47147</th>\n",
       "      <td>0.0</td>\n",
       "      <td>0.727</td>\n",
       "      <td>0.273</td>\n",
       "      <td>0.646101</td>\n",
       "      <td>0.353899</td>\n",
       "      <td>0.000000</td>\n",
       "    </tr>\n",
       "    <tr>\n",
       "      <th>26151</th>\n",
       "      <td>0.0</td>\n",
       "      <td>0.714</td>\n",
       "      <td>0.286</td>\n",
       "      <td>0.347422</td>\n",
       "      <td>0.517632</td>\n",
       "      <td>0.134946</td>\n",
       "    </tr>\n",
       "    <tr>\n",
       "      <th>21211</th>\n",
       "      <td>0.0</td>\n",
       "      <td>0.857</td>\n",
       "      <td>0.143</td>\n",
       "      <td>0.392921</td>\n",
       "      <td>0.607079</td>\n",
       "      <td>0.000000</td>\n",
       "    </tr>\n",
       "    <tr>\n",
       "      <th>26147</th>\n",
       "      <td>0.0</td>\n",
       "      <td>0.375</td>\n",
       "      <td>0.625</td>\n",
       "      <td>0.173093</td>\n",
       "      <td>0.772493</td>\n",
       "      <td>0.054414</td>\n",
       "    </tr>\n",
       "    <tr>\n",
       "      <th>26145</th>\n",
       "      <td>0.0</td>\n",
       "      <td>0.000</td>\n",
       "      <td>1.000</td>\n",
       "      <td>0.376969</td>\n",
       "      <td>0.567484</td>\n",
       "      <td>0.055547</td>\n",
       "    </tr>\n",
       "    <tr>\n",
       "      <th>31095</th>\n",
       "      <td>0.0</td>\n",
       "      <td>1.000</td>\n",
       "      <td>0.000</td>\n",
       "      <td>0.512816</td>\n",
       "      <td>0.476549</td>\n",
       "      <td>0.010634</td>\n",
       "    </tr>\n",
       "    <tr>\n",
       "      <th>39011</th>\n",
       "      <td>0.0</td>\n",
       "      <td>1.000</td>\n",
       "      <td>0.000</td>\n",
       "      <td>0.322013</td>\n",
       "      <td>0.662831</td>\n",
       "      <td>0.015156</td>\n",
       "    </tr>\n",
       "    <tr>\n",
       "      <th>21219</th>\n",
       "      <td>0.0</td>\n",
       "      <td>0.857</td>\n",
       "      <td>0.143</td>\n",
       "      <td>0.747486</td>\n",
       "      <td>0.252514</td>\n",
       "      <td>0.000000</td>\n",
       "    </tr>\n",
       "  </tbody>\n",
       "</table>\n",
       "</div>"
      ],
      "text/plain": [
       "       corn_pred  soyb_pred  weat_pred  corn_land  soyb_land  weat_land\n",
       "17055        1.0      0.000      0.000   0.255377   0.744623   0.000000\n",
       "26161        0.0      0.727      0.273   0.338893   0.581863   0.079244\n",
       "47147        0.0      0.727      0.273   0.646101   0.353899   0.000000\n",
       "26151        0.0      0.714      0.286   0.347422   0.517632   0.134946\n",
       "21211        0.0      0.857      0.143   0.392921   0.607079   0.000000\n",
       "26147        0.0      0.375      0.625   0.173093   0.772493   0.054414\n",
       "26145        0.0      0.000      1.000   0.376969   0.567484   0.055547\n",
       "31095        0.0      1.000      0.000   0.512816   0.476549   0.010634\n",
       "39011        0.0      1.000      0.000   0.322013   0.662831   0.015156\n",
       "21219        0.0      0.857      0.143   0.747486   0.252514   0.000000"
      ]
     },
     "execution_count": 93,
     "metadata": {},
     "output_type": "execute_result"
    }
   ],
   "source": [
    "out2 = out1[['corn','soyb','weat']].join(land[['corn','soyb','weat']],lsuffix='_pred',rsuffix='_land')\n",
    "out2.head(10)"
   ]
  },
  {
   "cell_type": "code",
   "execution_count": 90,
   "metadata": {},
   "outputs": [
    {
     "name": "stdout",
     "output_type": "stream",
     "text": [
      "corn -0.9906407952764082\n",
      "soyb -0.7125391831398986\n",
      "weat -0.1516705064660937\n"
     ]
    }
   ],
   "source": [
    "from sklearn.metrics import r2_score\n",
    "\n",
    "for i in ['corn','soyb','weat']:\n",
    "    print(i,r2_score(out2[i+'_pred'],out2[i+'_land']))"
   ]
  },
  {
   "cell_type": "markdown",
   "metadata": {},
   "source": [
    "As seen above the predictive power of this model is non-existent. I suspect there was some error in the code or some omitted variable which plays an important role in making these kinds of decisions(or maybe there is just a tremendous amount of inefficiency). Regardless, I will continue this later…"
   ]
  }
 ],
 "metadata": {
  "kernelspec": {
   "display_name": "Python 3",
   "language": "python",
   "name": "python3"
  },
  "language_info": {
   "codemirror_mode": {
    "name": "ipython",
    "version": 3
   },
   "file_extension": ".py",
   "mimetype": "text/x-python",
   "name": "python",
   "nbconvert_exporter": "python",
   "pygments_lexer": "ipython3",
   "version": "3.7.7"
  }
 },
 "nbformat": 4,
 "nbformat_minor": 4
}
